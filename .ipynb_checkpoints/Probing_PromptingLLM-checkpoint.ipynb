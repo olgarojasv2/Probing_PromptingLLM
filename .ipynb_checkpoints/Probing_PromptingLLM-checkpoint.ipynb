{
 "cells": [
  {
   "cell_type": "markdown",
   "id": "cb751b10-608e-401d-9217-f8a37b674150",
   "metadata": {},
   "source": [
    "# Probing and Prompting Large Language Models #"
   ]
  },
  {
   "cell_type": "markdown",
   "id": "476ef91a-20d6-4a88-ad54-cdaf28afad2b",
   "metadata": {},
   "source": [
    "## Part 1 ##"
   ]
  },
  {
   "cell_type": "markdown",
   "id": "0a3cada8-509b-4676-9250-59eaedbc5849",
   "metadata": {},
   "source": [
    "## ***“I want to know if an LLM’s internal representation of a story is closer related to the book or the movie version.”*** ##"
   ]
  },
  {
   "cell_type": "markdown",
   "id": "5731ba04-67a4-4739-9f55-e162e7cbaa76",
   "metadata": {},
   "source": [
    "### First, an analysis of the similarity between the movies and the books will be conducted. *A comparison with the LLM will follow*."
   ]
  },
  {
   "cell_type": "markdown",
   "id": "0a8c6e47-8a1b-40a5-b09d-1b0238c9e0a5",
   "metadata": {},
   "source": [
    "Extracting passages from Breaking Dawn, New Moon and Eclipse, from the Twilight Saga. The word filter works to extract specific mentions for compare it later on with the mentions done in the movie"
   ]
  },
  {
   "cell_type": "code",
   "execution_count": 16,
   "id": "73638809-4d93-4d29-8eaf-c608eb0e69d1",
   "metadata": {},
   "outputs": [],
   "source": [
    "import os\n",
    "import re\n",
    "from collections import defaultdict"
   ]
  },
  {
   "cell_type": "code",
   "execution_count": 19,
   "id": "a3150543-933b-4e13-a8b5-485ebd54fff6",
   "metadata": {},
   "outputs": [
    {
     "name": "stdout",
     "output_type": "stream",
     "text": [
      "Extracted 4750 relevant passages mentioning Edward and Jacob from all books.\n",
      "Saved to: Extracts_BreakingDawn_Eclipse_NewMoon\\twilight_book_extracts.txt\n"
     ]
    }
   ],
   "source": [
    "import os\n",
    "import re\n",
    "\n",
    "def extract_passages(text, keywords, window=200):\n",
    "    passages = []\n",
    "    for keyword in keywords:\n",
    "        matches = [m.start() for m in re.finditer(keyword, text, re.IGNORECASE)]\n",
    "        for match in matches:\n",
    "            start = max(0, match - window)\n",
    "            end = min(len(text), match + window)\n",
    "            passages.append(text[start:end])\n",
    "    return passages\n",
    "\n",
    "folder_path = \"Twilight_Saga\"\n",
    "\n",
    "key_moments = [\n",
    "    \"Edward Cullen\", \"Edward\", \"Jacob Black\", \"Jacob\",\n",
    "    \"Edward and Jacob\", \"Bella and Edward\", \"Bella and Jacob\", \"monster\"\n",
    "]\n",
    "\n",
    "#Ensuring the save directory exists\n",
    "save_dir = \"Extracts_BreakingDawn_Eclipse_NewMoon\"\n",
    "os.makedirs(save_dir, exist_ok=True)\n",
    "\n",
    "# Save path for extracted passages\n",
    "save_path = os.path.join(save_dir, \"twilight_book_extracts.txt\")\n",
    "\n",
    "# Process each book in the folder\n",
    "all_passages = []\n",
    "for filename in os.listdir(folder_path):\n",
    "    if filename.endswith(\".txt\"):\n",
    "        with open(os.path.join(folder_path, filename), \"r\", encoding=\"utf-8\") as file:\n",
    "            book_text = file.read()\n",
    "            extracted_passages = extract_passages(book_text, key_moments)\n",
    "            all_passages.extend(extracted_passages)\n",
    "\n",
    "# Save extracted passages to the specified directory\n",
    "with open(save_path, \"w\", encoding=\"utf-8\") as output_file:\n",
    "    for passage in all_passages:\n",
    "        output_file.write(passage + \"\\n---\\n\")\n",
    "\n",
    "print(f\"Extracted {len(all_passages)} relevant passages mentioning Edward and Jacob from all books.\")\n",
    "print(f\"Saved to: {save_path}\")\n"
   ]
  },
  {
   "cell_type": "markdown",
   "id": "aabcbe64-41f2-4d44-9c9b-ceb70ae40501",
   "metadata": {},
   "source": [
    "Extract the same instances in the movie scripts of Breaking Dawm, New Moon, and Eclipse from the Twilight Saga."
   ]
  },
  {
   "cell_type": "code",
   "execution_count": 23,
   "id": "c62fb5b7-0f3e-4843-af90-7d51ccd46db8",
   "metadata": {},
   "outputs": [
    {
     "name": "stdout",
     "output_type": "stream",
     "text": [
      "Extracted 1340 relevant passages mentioning Edward and Jacob from movie scripts.\n",
      "Saved to: Extracts_BreakingDawn_Eclipse_NewMoon\\twilight_script_extracts.txt\n"
     ]
    }
   ],
   "source": [
    "# Function to extract passages containing key phrases\n",
    "def extract_passages(text, keywords, window=100):\n",
    "    passages = []\n",
    "    for keyword in keywords:\n",
    "        matches = [m.start() for m in re.finditer(keyword, text, re.IGNORECASE)]\n",
    "        for match in matches:\n",
    "            start = max(0, match - window)\n",
    "            end = min(len(text), match + window)\n",
    "            passages.append(text[start:end])\n",
    "    return passages\n",
    "\n",
    "# Directory containing Twilight movie scripts\n",
    "movie_folder_path = \"Twilight_Saga_Movie\"\n",
    "\n",
    "# Define key moments to extract\n",
    "key_moments = [\n",
    "    \"Edward Cullen\", \"Edward\", \"Jacob Black\", \"Jacob\",\n",
    "    \"Edward and Jacob\", \"Bella and Edward\", \"Bella and Jacob\"\n",
    "]\n",
    "\n",
    "# Ensure the save directory exists\n",
    "save_dir = \"Extracts_BreakingDawn_Eclipse_NewMoon\"\n",
    "os.makedirs(save_dir, exist_ok=True)\n",
    "\n",
    "# Save path for extracted passages\n",
    "save_path = os.path.join(save_dir, \"twilight_script_extracts.txt\")\n",
    "\n",
    "# Process movie scripts\n",
    "all_movie_passages = []\n",
    "for filename in os.listdir(movie_folder_path):\n",
    "    if filename.endswith(\".txt\"):\n",
    "        with open(os.path.join(movie_folder_path, filename), \"r\", encoding=\"utf-8\") as file:\n",
    "            movie_text = file.read()\n",
    "            extracted_passages = extract_passages(movie_text, key_moments)\n",
    "            all_movie_passages.extend(extracted_passages)\n",
    "\n",
    "# Save extracted movie passages\n",
    "with open(\"twilight_script_extracts.txt\", \"w\", encoding=\"utf-8\") as output_file:\n",
    "    for passage in all_movie_passages:\n",
    "        output_file.write(passage + \"\\n---\\n\")\n",
    "\n",
    "# Process movie scripts\n",
    "all_movie_passages = []\n",
    "for filename in os.listdir(movie_folder_path):\n",
    "    if filename.endswith(\".txt\"):\n",
    "        with open(os.path.join(movie_folder_path, filename), \"r\", encoding=\"utf-8\") as file:\n",
    "            movie_text = file.read()\n",
    "            extracted_passages = extract_passages(movie_text, key_moments)\n",
    "            all_movie_passages.extend(extracted_passages)\n",
    "\n",
    "# Save extracted movie passages in the correct folder\n",
    "with open(save_path, \"w\", encoding=\"utf-8\") as output_file:\n",
    "    for passage in all_movie_passages:\n",
    "        output_file.write(passage + \"\\n---\\n\")\n",
    "\n",
    "print(f\"Extracted {len(all_movie_passages)} relevant passages mentioning Edward and Jacob from movie scripts.\")\n",
    "print(f\"Saved to: {save_path}\")"
   ]
  },
  {
   "cell_type": "markdown",
   "id": "9a69454d-95ac-41d7-bab3-d30c7e017951",
   "metadata": {},
   "source": [
    "Check similarities between the movie scripts and the book with TF-IDF vectorization (word frequency analysis)"
   ]
  },
  {
   "cell_type": "code",
   "execution_count": 2,
   "id": "d9436382-8ffa-4260-945d-78cae445bb74",
   "metadata": {},
   "outputs": [],
   "source": [
    "import os\n",
    "from sklearn.feature_extraction.text import TfidfVectorizer\n",
    "from sklearn.pipeline import Pipeline\n",
    "from sklearn.metrics.pairwise import cosine_similarity\n",
    "import numpy as np"
   ]
  },
  {
   "cell_type": "code",
   "execution_count": 3,
   "id": "32933633-cb7c-4f9c-b681-3b3478d5712a",
   "metadata": {},
   "outputs": [
    {
     "name": "stdout",
     "output_type": "stream",
     "text": [
      "Similarity analysis completed using optimized TF-IDF. Results saved to: Extracts_BreakingDawn_Eclipse_NewMoon\\twilight_similarityTF-IDF_results.txt\n"
     ]
    }
   ],
   "source": [
    "# Define the save directory\n",
    "save_dir = \"Extracts_BreakingDawn_Eclipse_NewMoon\"\n",
    "os.makedirs(save_dir, exist_ok=True)\n",
    "\n",
    "# Load book and movie passages\n",
    "book_passages_file = os.path.join(save_dir, \"twilight_book_extracts.txt\")\n",
    "movie_passages_file = os.path.join(save_dir, \"twilight_script_extracts.txt\")\n",
    "\n",
    "if os.path.exists(book_passages_file) and os.path.exists(movie_passages_file):\n",
    "    with open(book_passages_file, \"r\", encoding=\"utf-8\") as file:\n",
    "        all_book_passages = [p.strip() for p in file.read().split(\"\\n---\\n\") if p.strip()]\n",
    "    \n",
    "    with open(movie_passages_file, \"r\", encoding=\"utf-8\") as file:\n",
    "        all_movie_passages = [p.strip() for p in file.read().split(\"\\n---\\n\") if p.strip()]\n",
    "else:\n",
    "    print(\"Book or movie passages file not found. Make sure to extract passages first.\")\n",
    "    exit()\n",
    "\n",
    "# Ensure there are passages to compare\n",
    "if not all_book_passages or not all_movie_passages:\n",
    "    print(\"Error: One of the passage lists is empty. Check extracted data.\")\n",
    "    exit()\n",
    "\n",
    "# Reduce dataset size for faster processing\n",
    "book_sample = all_book_passages[:50]  # Adjust sample size if needed\n",
    "movie_sample = all_movie_passages[:50]\n",
    "corpus = book_sample + movie_sample\n",
    "\n",
    "# Define a processing pipeline\n",
    "pipeline = Pipeline([\n",
    "    (\"tfidf\", TfidfVectorizer(stop_words='english', ngram_range=(1, 2)))\n",
    "]) \n",
    "\n",
    "# Compute TF-IDF vectors\n",
    "X = pipeline.fit_transform(corpus)\n",
    "X_dense = X.toarray()  # Convert to dense array for faster processing\n",
    "\n",
    "# Compute cosine similarity in a vectorized manner\n",
    "cosine_sim_matrix = cosine_similarity(X_dense[:len(book_sample)], X_dense[len(book_sample):])\n",
    "\n",
    "# Extract top matches efficiently\n",
    "similarities = [(cosine_sim_matrix[i, j], book_sample[i], movie_sample[j])\n",
    "                for i in range(len(book_sample)) for j in range(len(movie_sample))]\n",
    "\n",
    "# Check if any similarities were found\n",
    "if not similarities:\n",
    "    print(\"No meaningful similarities found. Try adjusting passage extraction or vectorization settings.\")\n",
    "    exit()\n",
    "\n",
    "# Sort by similarity score\n",
    "similarities.sort(reverse=True)\n",
    "\n",
    "# Define the save path for the results\n",
    "results_save_path = os.path.join(save_dir, \"twilight_similarityTF-IDF_results.txt\")\n",
    "\n",
    "# Save top and bottom matches\n",
    "with open(results_save_path, \"w\", encoding=\"utf-8\") as output_file:\n",
    "    output_file.write(\"Top 5 Most Similar Matches:\\n\\n\")\n",
    "    for score, book, movie in similarities[:5]:\n",
    "        output_file.write(f\"Similarity: {score:.4f}\\nBook: {book}\\nMovie: {movie}\\n---\\n\")\n",
    "    \n",
    "    output_file.write(\"\\nBottom 5 Least Similar Matches:\\n\\n\")\n",
    "    for score, book, movie in similarities[-5:]:\n",
    "        output_file.write(f\"Similarity: {score:.4f}\\nBook: {book}\\nMovie: {movie}\\n---\\n\")\n",
    "\n",
    "print(f\"Similarity analysis completed using optimized TF-IDF. Results saved to: {results_save_path}\")\n"
   ]
  },
  {
   "cell_type": "markdown",
   "id": "23cd3db2-a18f-4e3f-8c3c-cb36f9f09e8d",
   "metadata": {},
   "source": [
    "Histogram visualising the cosine vector"
   ]
  },
  {
   "cell_type": "code",
   "execution_count": 4,
   "id": "ebec9a27-5ef5-4dd8-bceb-2616455826f3",
   "metadata": {},
   "outputs": [
    {
     "data": {
      "image/png": "[encoded data removed]",
      "text/plain": [
       "<Figure size 640x480 with 1 Axes>"
      ]
     },
     "metadata": {},
     "output_type": "display_data"
    }
   ],
   "source": [
    "import matplotlib.pyplot as plt\n",
    "\n",
    "scores = [sim[0] for sim in similarities]\n",
    "plt.hist(scores, bins=20, alpha=0.75, color='blue')\n",
    "plt.xlabel('Cosine Similarity Score')\n",
    "plt.ylabel('Frequency')\n",
    "plt.title('Distribution of Book vs. Movie Passage Similarity')\n",
    "plt.show()\n"
   ]
  },
  {
   "cell_type": "code",
   "execution_count": 5,
   "id": "e660c8fa-0a79-4ce1-aedc-ecae25288d7b",
   "metadata": {},
   "outputs": [
    {
     "name": "stdout",
     "output_type": "stream",
     "text": [
      "Max Similarity: 0.11644214136846535\n",
      "Min Similarity: 0.0\n",
      "Mean Similarity: 0.008502610188125394\n",
      "Median Similarity: 0.0035130352114320492\n"
     ]
    }
   ],
   "source": [
    "import numpy as np\n",
    "\n",
    "scores = [sim[0] for sim in similarities]\n",
    "\n",
    "print(\"Max Similarity:\", np.max(scores))\n",
    "print(\"Min Similarity:\", np.min(scores))\n",
    "print(\"Mean Similarity:\", np.mean(scores))\n",
    "print(\"Median Similarity:\", np.median(scores))\n"
   ]
  },
  {
   "cell_type": "markdown",
   "id": "2354632a-58f8-4959-98ae-37a44e3a24e5",
   "metadata": {},
   "source": [
    "Similarity with SBERT and cosine"
   ]
  },
  {
   "cell_type": "code",
   "execution_count": 6,
   "id": "8abb851c-9447-4154-b27a-31a3b6825586",
   "metadata": {},
   "outputs": [
    {
     "name": "stdout",
     "output_type": "stream",
     "text": [
      "Requirement already satisfied: seaborn in c:\\users\\olga\\anaconda4\\envs\\asigmentlab\\lib\\site-packages (0.13.2)\n",
      "Requirement already satisfied: numpy!=1.24.0,>=1.20 in c:\\users\\olga\\anaconda4\\envs\\asigmentlab\\lib\\site-packages (from seaborn) (2.0.2)\n",
      "Requirement already satisfied: pandas>=1.2 in c:\\users\\olga\\anaconda4\\envs\\asigmentlab\\lib\\site-packages (from seaborn) (2.2.3)\n",
      "Requirement already satisfied: matplotlib!=3.6.1,>=3.4 in c:\\users\\olga\\anaconda4\\envs\\asigmentlab\\lib\\site-packages (from seaborn) (3.10.0)\n",
      "Requirement already satisfied: contourpy>=1.0.1 in c:\\users\\olga\\anaconda4\\envs\\asigmentlab\\lib\\site-packages (from matplotlib!=3.6.1,>=3.4->seaborn) (1.3.1)\n",
      "Requirement already satisfied: cycler>=0.10 in c:\\users\\olga\\anaconda4\\envs\\asigmentlab\\lib\\site-packages (from matplotlib!=3.6.1,>=3.4->seaborn) (0.11.0)\n",
      "Requirement already satisfied: fonttools>=4.22.0 in c:\\users\\olga\\anaconda4\\envs\\asigmentlab\\lib\\site-packages (from matplotlib!=3.6.1,>=3.4->seaborn) (4.51.0)\n",
      "Requirement already satisfied: kiwisolver>=1.3.1 in c:\\users\\olga\\anaconda4\\envs\\asigmentlab\\lib\\site-packages (from matplotlib!=3.6.1,>=3.4->seaborn) (1.4.4)\n",
      "Requirement already satisfied: packaging>=20.0 in c:\\users\\olga\\anaconda4\\envs\\asigmentlab\\lib\\site-packages (from matplotlib!=3.6.1,>=3.4->seaborn) (24.1)\n",
      "Requirement already satisfied: pillow>=8 in c:\\users\\olga\\anaconda4\\envs\\asigmentlab\\lib\\site-packages (from matplotlib!=3.6.1,>=3.4->seaborn) (11.0.0)\n",
      "Requirement already satisfied: pyparsing>=2.3.1 in c:\\users\\olga\\anaconda4\\envs\\asigmentlab\\lib\\site-packages (from matplotlib!=3.6.1,>=3.4->seaborn) (3.2.0)\n",
      "Requirement already satisfied: python-dateutil>=2.7 in c:\\users\\olga\\anaconda4\\envs\\asigmentlab\\lib\\site-packages (from matplotlib!=3.6.1,>=3.4->seaborn) (2.9.0.post0)\n",
      "Requirement already satisfied: pytz>=2020.1 in c:\\users\\olga\\anaconda4\\envs\\asigmentlab\\lib\\site-packages (from pandas>=1.2->seaborn) (2024.1)\n",
      "Requirement already satisfied: tzdata>=2022.7 in c:\\users\\olga\\anaconda4\\envs\\asigmentlab\\lib\\site-packages (from pandas>=1.2->seaborn) (2023.3)\n",
      "Requirement already satisfied: six>=1.5 in c:\\users\\olga\\anaconda4\\envs\\asigmentlab\\lib\\site-packages (from python-dateutil>=2.7->matplotlib!=3.6.1,>=3.4->seaborn) (1.16.0)\n"
     ]
    }
   ],
   "source": [
    "!pip install seaborn"
   ]
  },
  {
   "cell_type": "code",
   "execution_count": 7,
   "id": "4055e056-3c18-4a41-bce1-46094272a0c9",
   "metadata": {},
   "outputs": [
    {
     "name": "stderr",
     "output_type": "stream",
     "text": [
      "C:\\Users\\Olga\\anaconda4\\envs\\AsigmentLab\\Lib\\site-packages\\tqdm\\auto.py:21: TqdmWarning: IProgress not found. Please update jupyter and ipywidgets. See https://ipywidgets.readthedocs.io/en/stable/user_install.html\n",
      "  from .autonotebook import tqdm as notebook_tqdm\n"
     ]
    },
    {
     "name": "stdout",
     "output_type": "stream",
     "text": [
      "SBERT Similarity analysis completed. Results saved to: Extracts_BreakingDawn_Eclipse_NewMoon\\twilight_sbert_similarity_results.txt\n"
     ]
    }
   ],
   "source": [
    "import os\n",
    "import numpy as np\n",
    "from sentence_transformers import SentenceTransformer\n",
    "from sklearn.metrics.pairwise import cosine_similarity\n",
    "\n",
    "# Define the save directory\n",
    "save_dir = \"Extracts_BreakingDawn_Eclipse_NewMoon\"\n",
    "os.makedirs(save_dir, exist_ok=True)\n",
    "\n",
    "# Define file paths\n",
    "book_passages_file = os.path.join(save_dir, \"twilight_book_extracts.txt\")\n",
    "movie_passages_file = os.path.join(save_dir, \"twilight_script_extracts.txt\")\n",
    "\n",
    "# Load book and movie passages\n",
    "if os.path.exists(book_passages_file) and os.path.exists(movie_passages_file):\n",
    "    with open(book_passages_file, \"r\", encoding=\"utf-8\") as file:\n",
    "        all_book_passages = [p.strip() for p in file.read().split(\"\\n---\\n\") if p.strip()]\n",
    "    \n",
    "    with open(movie_passages_file, \"r\", encoding=\"utf-8\") as file:\n",
    "        all_movie_passages = [p.strip() for p in file.read().split(\"\\n---\\n\") if p.strip()]\n",
    "else:\n",
    "    print(\"Book or movie passages file not found. Make sure to extract passages first.\")\n",
    "    exit()\n",
    "\n",
    "# Ensure there are passages to compare\n",
    "if not all_book_passages or not all_movie_passages:\n",
    "    print(\"Error: One of the passage lists is empty. Check extracted data.\")\n",
    "    exit()\n",
    "\n",
    "# Reduce dataset size for faster processing\n",
    "book_sample = all_book_passages[:50]  # Adjust sample size if needed\n",
    "movie_sample = all_movie_passages[:50]\n",
    "\n",
    "# Load SBERT model\n",
    "sbert_model = SentenceTransformer(\"sentence-transformers/all-MiniLM-L6-v2\")\n",
    "\n",
    "# Compute SBERT embeddings\n",
    "book_embeddings = sbert_model.encode(book_sample, convert_to_numpy=True)\n",
    "movie_embeddings = sbert_model.encode(movie_sample, convert_to_numpy=True)\n",
    "\n",
    "# Compute cosine similarity with SBERT\n",
    "semantic_sim_matrix = cosine_similarity(book_embeddings, movie_embeddings)\n",
    "\n",
    "# Extract top 5 most similar matches\n",
    "flat_indices = np.argpartition(-semantic_sim_matrix.ravel(), 5)[:5]\n",
    "top_5_pairs = np.unravel_index(flat_indices, semantic_sim_matrix.shape)\n",
    "\n",
    "# Define the save path for SBERT similarity results\n",
    "sbert_results_path = os.path.join(save_dir, \"twilight_sbert_similarity_results.txt\")\n",
    "\n",
    "# Save top 5 most similar matches\n",
    "with open(sbert_results_path, \"w\", encoding=\"utf-8\") as output_file:\n",
    "    output_file.write(\"Top 5 Most Similar Matches (SBERT):\\n\\n\")\n",
    "    for i, j in zip(top_5_pairs[0], top_5_pairs[1]):\n",
    "        output_file.write(f\"Similarity: {semantic_sim_matrix[i, j]:.4f}\\nBook: {book_sample[i]}\\nMovie: {movie_sample[j]}\\n---\\n\")\n",
    "\n",
    "print(f\"SBERT Similarity analysis completed. Results saved to: {sbert_results_path}\")\n"
   ]
  },
  {
   "cell_type": "markdown",
   "id": "40290ce8-a95f-4e56-b76e-ea61e40a7bbb",
   "metadata": {},
   "source": [
    "Histogram of the SBERT Similarity Scores"
   ]
  },
  {
   "cell_type": "code",
   "execution_count": 8,
   "id": "684bcdd0-0904-4e5c-9438-ff0f8b8b0367",
   "metadata": {},
   "outputs": [
    {
     "data": {
      "image/png": "[encoded data removed]",
      "text/plain": [
       "<Figure size 800x500 with 1 Axes>"
      ]
     },
     "metadata": {},
     "output_type": "display_data"
    }
   ],
   "source": [
    "import matplotlib.pyplot as plt\n",
    "import seaborn as sns\n",
    "import numpy as np\n",
    "\n",
    "# Assuming `semantic_sim_matrix` is already computed\n",
    "similarity_scores = semantic_sim_matrix.flatten()  # Flatten the matrix into a 1D array\n",
    "\n",
    "# Plot histogram\n",
    "plt.figure(figsize=(8, 5))\n",
    "sns.histplot(similarity_scores, bins=20, kde=True, color='royalblue')\n",
    "plt.xlabel(\"SBERT Cosine Similarity Score\")\n",
    "plt.ylabel(\"Frequency\")\n",
    "plt.title(\"Distribution of SBERT Similarity Scores\")\n",
    "plt.show()\n"
   ]
  },
  {
   "cell_type": "markdown",
   "id": "4e106299-c261-4e6c-a9ef-7f41a39570ed",
   "metadata": {},
   "source": [
    "### Comparing Eclipse book with Eclipse script ###"
   ]
  },
  {
   "cell_type": "markdown",
   "id": "cf2ad232-5bdb-49b5-b273-4e136a8ca399",
   "metadata": {},
   "source": [
    "\n",
    "Extracting Eclipse scripts and book that mentions Edward and Jacob"
   ]
  },
  {
   "cell_type": "code",
   "execution_count": 9,
   "id": "5959913e-cf38-4798-99d8-2c59b19115ce",
   "metadata": {},
   "outputs": [
    {
     "name": "stdout",
     "output_type": "stream",
     "text": [
      "Extracted 1897 relevant passages mentioning Edward and Jacob. Saved to Extracts_Eclipse\\twilight_Eclipse_book_extracts.txt\n"
     ]
    }
   ],
   "source": [
    "import os\n",
    "import re\n",
    "\n",
    "# Function to extract passages containing key phrases\n",
    "def extract_passages(text, keywords, window=200):\n",
    "    passages = []\n",
    "    for keyword in keywords:\n",
    "        matches = [m.start() for m in re.finditer(keyword, text, re.IGNORECASE)]\n",
    "        for match in matches:\n",
    "            start = max(0, match - window)\n",
    "            end = min(len(text), match + window)\n",
    "            passages.append(text[start:end])\n",
    "    return passages\n",
    "\n",
    "# File path for Eclipse book\n",
    "book_file_path = \"Twilight_Saga/Eclipse-Book.txt\"\n",
    "\n",
    "# Define key phrases to extract passages\n",
    "key_moments = [\"Edward Cullen\", \"Edward\", \"Jacob Black\", \"Jacob\",\n",
    "               \"Edward and Jacob\", \"Bella and Edward\", \"Bella and Jacob\", \"monster\", \"vampire\", \"wedding\", \"marriage\"]\n",
    "\n",
    "# Ensure the save directory exists\n",
    "save_dir = \"Extracts_Eclipse\"\n",
    "os.makedirs(save_dir, exist_ok=True)\n",
    "\n",
    "# Save path for extracted passages\n",
    "output_file_path = os.path.join(save_dir, \"twilight_Eclipse_book_extracts.txt\")\n",
    "\n",
    "# Read the book file and extract passages\n",
    "if os.path.exists(book_file_path):\n",
    "    with open(book_file_path, \"r\", encoding=\"utf-8\") as file:\n",
    "        book_text = file.read()\n",
    "        extracted_passages = extract_passages(book_text, key_moments)\n",
    "\n",
    "    # Save extracted passages to a file\n",
    "    with open(output_file_path, \"w\", encoding=\"utf-8\") as output_file:\n",
    "        for passage in extracted_passages:\n",
    "            output_file.write(passage + \"\\n---\\n\")\n",
    "\n",
    "    print(f\"Extracted {len(extracted_passages)} relevant passages mentioning Edward and Jacob. Saved to {output_file_path}\")\n",
    "else:\n",
    "    print(f\"Error: File {book_file_path} not found.\")\n"
   ]
  },
  {
   "cell_type": "markdown",
   "id": "86410fd9-48e1-47c2-a2b7-9c69d82136e4",
   "metadata": {},
   "source": [
    "Extract the same instances in the Eclipse Script and try to erase the dialogue markers "
   ]
  },
  {
   "cell_type": "code",
   "execution_count": 10,
   "id": "032a65ef-5d38-4df0-b65f-f4cebbdb76b9",
   "metadata": {},
   "outputs": [
    {
     "name": "stdout",
     "output_type": "stream",
     "text": [
      "Extracted 1008 lines of dialogue mentioning Edward, Jacob, or Bella from the movie script. Saved to Extracts_Eclipse\\twilight_Eclipse_script_extracts.txt\n"
     ]
    },
    {
     "name": "stderr",
     "output_type": "stream",
     "text": [
      "[nltk_data] Downloading package punkt to\n",
      "[nltk_data]     C:\\Users\\Olga\\AppData\\Roaming\\nltk_data...\n",
      "[nltk_data]   Package punkt is already up-to-date!\n"
     ]
    }
   ],
   "source": [
    "import os\n",
    "import re\n",
    "import nltk\n",
    "from nltk.tokenize import sent_tokenize\n",
    "\n",
    "nltk.download('punkt')\n",
    "\n",
    "# Load movie script file\n",
    "movie_script_file = \"Twilight_Saga_Movie/Eclipse-Script.txt\"\n",
    "\n",
    "def clean_text(text):\n",
    "    text = text.lower()\n",
    "    text = re.sub(r\"[^a-z0-9\\s']\", '', text)  # Keep apostrophes\n",
    "    text = re.sub(r'\\s+', ' ', text).strip()  # Normalize spaces\n",
    "    return text\n",
    "\n",
    "def extract_dialogue(text):\n",
    "    \"\"\"Extracts only dialogue from the script by removing character names.\"\"\"\n",
    "    dialogue = []\n",
    "    lines = text.split(\"\\n\")\n",
    "    for line in lines:\n",
    "        line = re.sub(r'^[A-Z][A-Z\\s]*\\.\\s*', '', line)  # Remove character names at the start\n",
    "        cleaned_line = clean_text(line)\n",
    "        if cleaned_line and (\"edward\" in cleaned_line or \"jacob\" in cleaned_line or \"bella\" in cleaned_line or \"marriage\" in cleaned_line or \"wedding\" in cleaned_line):\n",
    "            dialogue.append(cleaned_line)\n",
    "    return dialogue\n",
    "\n",
    "if os.path.exists(movie_script_file):\n",
    "    with open(movie_script_file, \"r\", encoding=\"utf-8\") as file:\n",
    "        movie_dialogue = extract_dialogue(file.read())  # Extract only dialogue\n",
    "else:\n",
    "    print(\"Movie script file not found. Ensure correct file path.\")\n",
    "    exit()\n",
    "\n",
    "# Ensure the save directory exists\n",
    "save_dir = \"Extracts_Eclipse\"\n",
    "os.makedirs(save_dir, exist_ok=True)\n",
    "\n",
    "# Save extracted dialogue to a file\n",
    "output_file_path = os.path.join(save_dir, \"twilight_Eclipse_script_extracts.txt\")\n",
    "with open(output_file_path, \"w\", encoding=\"utf-8\") as file:\n",
    "    for line in movie_dialogue:\n",
    "        file.write(line + \"\\n\")\n",
    "\n",
    "print(f\"Extracted {len(movie_dialogue)} lines of dialogue mentioning Edward, Jacob, or Bella from the movie script. Saved to {output_file_path}\")\n"
   ]
  },
  {
   "cell_type": "markdown",
   "id": "9e83f172-9b3c-4ab6-a229-906b27f5715c",
   "metadata": {},
   "source": [
    "Compare Eclipse Script extracts with Eclipse Book extracts using TF-IDF "
   ]
  },
  {
   "cell_type": "code",
   "execution_count": 11,
   "id": "78da3094-cf70-4d2b-ba7a-ee83155c1090",
   "metadata": {},
   "outputs": [
    {
     "name": "stdout",
     "output_type": "stream",
     "text": [
      "Similarity analysis completed using optimized TF-IDF. Results saved to Extracts_Eclipse\\twilight_Eclipse_similarity_tf-idf-results.txt\n"
     ]
    }
   ],
   "source": [
    "import os\n",
    "from sklearn.feature_extraction.text import TfidfVectorizer\n",
    "from sklearn.pipeline import Pipeline\n",
    "from sklearn.metrics.pairwise import cosine_similarity\n",
    "import numpy as np\n",
    "\n",
    "# Load book and movie passages\n",
    "book_passages_file = \"Extracts_Eclipse/twilight_Eclipse_book_extracts.txt\"\n",
    "movie_passages_file = \"Extracts_Eclipse/twilight_Eclipse_script_extracts.txt\"\n",
    "\n",
    "if os.path.exists(book_passages_file) and os.path.exists(movie_passages_file):\n",
    "    with open(book_passages_file, \"r\", encoding=\"utf-8\") as file:\n",
    "        all_book_passages = [p.strip() for p in file.read().split(\"\\n---\\n\") if p.strip()]\n",
    "    \n",
    "    with open(movie_passages_file, \"r\", encoding=\"utf-8\") as file:\n",
    "        all_movie_passages = [p.strip() for p in file.read().split(\"\\n---\\n\") if p.strip()]\n",
    "else:\n",
    "    print(\"Book or movie passages file not found. Make sure to extract passages first.\")\n",
    "    exit()\n",
    "\n",
    "# Ensure there are passages to compare\n",
    "if not all_book_passages or not all_movie_passages:\n",
    "    print(\"Error: One of the passage lists is empty. Check extracted data.\")\n",
    "    exit()\n",
    "\n",
    "# Reduce dataset size for faster processing\n",
    "book_sample = all_book_passages[:50]  # Adjust sample size if needed\n",
    "movie_sample = all_movie_passages[:50]\n",
    "corpus = book_sample + movie_sample\n",
    "\n",
    "# Define a processing pipeline\n",
    "pipeline = Pipeline([\n",
    "    (\"tfidf\", TfidfVectorizer(stop_words='english', ngram_range=(1, 2)))\n",
    "])\n",
    "\n",
    "# Compute TF-IDF vectors\n",
    "X = pipeline.fit_transform(corpus)\n",
    "X_dense = X.toarray()  # Convert to dense array for faster processing\n",
    "\n",
    "# Compute cosine similarity in a vectorized manner\n",
    "cosine_sim_matrix = cosine_similarity(X_dense[:len(book_sample)], X_dense[len(book_sample):])\n",
    "\n",
    "# Extract top matches efficiently\n",
    "similarities = [(cosine_sim_matrix[i, j], book_sample[i], movie_sample[j])\n",
    "                for i in range(len(book_sample)) for j in range(len(movie_sample))]\n",
    "\n",
    "# Check if any similarities were found\n",
    "if not similarities:\n",
    "    print(\"No meaningful similarities found. Try adjusting passage extraction or vectorization settings.\")\n",
    "    exit()\n",
    "\n",
    "# Sort by similarity score\n",
    "similarities.sort(reverse=True)\n",
    "\n",
    "# Ensure the save directory exists\n",
    "save_dir = \"Extracts_Eclipse\"\n",
    "os.makedirs(save_dir, exist_ok=True)\n",
    "\n",
    "# Save top and bottom matches\n",
    "output_file_path = os.path.join(save_dir, \"twilight_Eclipse_similarity_tf-idf-results.txt\")\n",
    "with open(output_file_path, \"w\", encoding=\"utf-8\") as output_file:\n",
    "    output_file.write(\"Top 5 Most Similar Matches:\\n\\n\")\n",
    "    for score, book, movie in similarities[:5]:\n",
    "        output_file.write(f\"Similarity: {score:.4f}\\nBook: {book}\\nMovie: {movie}\\n---\\n\")\n",
    "    \n",
    "    output_file.write(\"\\nBottom 5 Least Similar Matches:\\n\\n\")\n",
    "    for score, book, movie in similarities[-5:]:\n",
    "        output_file.write(f\"Similarity: {score:.4f}\\nBook: {book}\\nMovie: {movie}\\n---\\n\")\n",
    "\n",
    "print(f\"Similarity analysis completed using optimized TF-IDF. Results saved to {output_file_path}\")\n"
   ]
  },
  {
   "cell_type": "markdown",
   "id": "59c4e3cd-9a30-4624-a949-d9639155e6e9",
   "metadata": {},
   "source": [
    "Comparing Eclipse Book and Script with SBERT"
   ]
  },
  {
   "cell_type": "code",
   "execution_count": null,
   "id": "c57df9eb-53fc-4649-95d1-56cecd996991",
   "metadata": {},
   "outputs": [],
   "source": [
    "!pip install seaborn\n",
    "\n",
    "import os\n",
    "import numpy as np\n",
    "import matplotlib.pyplot as plt\n",
    "import seaborn as sns\n",
    "from sklearn.feature_extraction.text import TfidfVectorizer\n",
    "from sklearn.pipeline import Pipeline\n",
    "from sklearn.metrics.pairwise import cosine_similarity\n",
    "from nltk.corpus import stopwords\n",
    "from nltk.stem import WordNetLemmatizer\n",
    "from nltk.tokenize import word_tokenize\n",
    "from sentence_transformers import SentenceTransformer\n",
    "import nltk\n",
    "\n",
    "nltk.download('punkt')\n",
    "nltk.download('wordnet')\n",
    "nltk.download('stopwords')\n",
    "\n",
    "# Load book and movie passages\n",
    "book_passages_file = \"twilight_Eclipse_edward_jacob_book_passages.txt\"\n",
    "movie_passages_file = \"twilight_Eclipse_edward_jacob_movie_dialogue.txt\"\n",
    "\n",
    "if os.path.exists(book_passages_file) and os.path.exists(movie_passages_file):\n",
    "    with open(book_passages_file, \"r\", encoding=\"utf-8\") as file:\n",
    "        all_book_passages = [p.strip() for p in file.read().split(\"\\n---\\n\") if p.strip()]\n",
    "    \n",
    "    with open(movie_passages_file, \"r\", encoding=\"utf-8\") as file:\n",
    "        all_movie_passages = [p.strip() for p in file.read().split(\"\\n---\\n\") if p.strip()]\n",
    "else:\n",
    "    print(\"Book or movie passages file not found. Make sure to extract passages first.\")\n",
    "    exit()\n",
    "\n",
    "# Ensure there are passages to compare\n",
    "if not all_book_passages or not all_movie_passages:\n",
    "    print(\"Error: One of the passage lists is empty. Check extracted data.\")\n",
    "    exit()\n",
    "\n",
    "# Reduce dataset size for faster processing\n",
    "book_sample = all_book_passages[:50]  # Adjust sample size if needed\n",
    "movie_sample = all_movie_passages[:50]\n",
    "corpus = book_sample + movie_sample\n",
    "\n",
    "# Define a processing pipeline\n",
    "pipeline = Pipeline([\n",
    "    (\"tfidf\", TfidfVectorizer(stop_words='english', ngram_range=(1, 2)))\n",
    "])\n",
    "\n",
    "# Compute TF-IDF vectors\n",
    "X = pipeline.fit_transform(corpus)\n",
    "X_dense = X.toarray()\n",
    "\n",
    "# Compute cosine similarity\n",
    "cosine_sim_matrix = cosine_similarity(X_dense[:len(book_sample)], X_dense[len(book_sample):])\n",
    "\n",
    "# Extract top matches efficiently\n",
    "similarities = [(cosine_sim_matrix[i, j], book_sample[i], movie_sample[j])\n",
    "                for i in range(len(book_sample)) for j in range(len(movie_sample))]\n",
    "\n",
    "if not similarities:\n",
    "    print(\"No meaningful similarities found. Try adjusting passage extraction or vectorization settings.\")\n",
    "    exit()\n",
    "\n",
    "# Sort by similarity score\n",
    "similarities.sort(reverse=True)\n",
    "\n",
    "# Save top and bottom matches\n",
    "with open(\"twilight_tfidf_similarity_Eclipse_results.txt\", \"w\", encoding=\"utf-8\") as output_file:\n",
    "    output_file.write(\"Top 5 Most Similar Matches (TF-IDF):\\n\\n\")\n",
    "    for score, book, movie in similarities[:5]:\n",
    "        output_file.write(f\"Similarity: {score:.4f}\\nBook: {book}\\nMovie: {movie}\\n---\\n\")\n",
    "    \n",
    "    output_file.write(\"\\nBottom 5 Least Similar Matches (TF-IDF):\\n\\n\")\n",
    "    for score, book, movie in similarities[-5:]:\n",
    "        output_file.write(f\"Similarity: {score:.4f}\\nBook: {book}\\nMovie: {movie}\\n---\\n\")\n",
    "\n",
    "print(\"TF-IDF Similarity analysis completed. Results saved.\")\n",
    "\n",
    "# Load SBERT model\n",
    "sbert_model = SentenceTransformer(\"sentence-transformers/all-MiniLM-L6-v2\")\n",
    "\n",
    "# Compute SBERT embeddings\n",
    "book_embeddings = sbert_model.encode(book_sample, convert_to_numpy=True)\n",
    "movie_embeddings = sbert_model.encode(movie_sample, convert_to_numpy=True)\n",
    "\n",
    "# Compute cosine similarity with SBERT\n",
    "semantic_sim_matrix = cosine_similarity(book_embeddings, movie_embeddings)\n",
    "\n",
    "# Extract top matches efficiently\n",
    "flat_indices = np.argpartition(-semantic_sim_matrix.ravel(), 5)[:5]\n",
    "top_5_pairs = np.unravel_index(flat_indices, semantic_sim_matrix.shape)\n",
    "\n",
    "with open(\"twilight_sbert_Eclipse_similarity_results.txt\", \"w\", encoding=\"utf-8\") as output_file:\n",
    "    output_file.write(\"Top 5 Most Similar Matches (SBERT):\\n\\n\")\n",
    "    for i, j in zip(top_5_pairs[0], top_5_pairs[1]):\n",
    "        output_file.write(f\"Similarity: {semantic_sim_matrix[i, j]:.4f}\\nBook: {book_sample[i]}\\nMovie: {movie_sample[j]}\\n---\\n\")\n",
    "\n",
    "print(\"SBERT Similarity analysis completed. Results saved.\")\n",
    "\n",
    "# Visualization of similarity matrices\n",
    "plt.figure(figsize=(10, 5))\n",
    "sns.heatmap(cosine_sim_matrix, cmap='Blues', xticklabels=False, yticklabels=False)\n",
    "plt.title(\"TF-IDF Cosine Similarity Matrix\")\n",
    "plt.savefig(\"tfidf_similarityEclipse_matrix.png\")\n",
    "plt.show()\n",
    "\n",
    "plt.figure(figsize=(10, 5))\n",
    "sns.heatmap(semantic_sim_matrix, cmap='Reds', xticklabels=False, yticklabels=False)\n",
    "plt.title(\"SBERT Cosine Similarity Matrix\")\n",
    "plt.savefig(\"sbert_similarity_Eclipse_matrix.png\")\n",
    "plt.show()\n"
   ]
  },
  {
   "cell_type": "code",
   "execution_count": 12,
   "id": "2c103928-1ddc-459c-adc0-d533f64aa691",
   "metadata": {},
   "outputs": [
    {
     "name": "stdout",
     "output_type": "stream",
     "text": [
      "SBERT Similarity analysis completed. Results saved to: Extracts_Eclipse\\twilight_Eclipse_sbert_similarity_results.txt\n"
     ]
    }
   ],
   "source": [
    "import os\n",
    "import numpy as np\n",
    "from sentence_transformers import SentenceTransformer\n",
    "from sklearn.metrics.pairwise import cosine_similarity\n",
    "\n",
    "# Define the save directory for Eclipse extracts\n",
    "save_dir = \"Extracts_Eclipse\"\n",
    "os.makedirs(save_dir, exist_ok=True)\n",
    "\n",
    "# Define file paths\n",
    "book_passages_file = os.path.join(save_dir, \"twilight_Eclipse_book_extracts.txt\")\n",
    "movie_passages_file = os.path.join(save_dir, \"twilight_Eclipse_script_extracts.txt\")\n",
    "\n",
    "# Load book and movie passages\n",
    "if os.path.exists(book_passages_file) and os.path.exists(movie_passages_file):\n",
    "    with open(book_passages_file, \"r\", encoding=\"utf-8\") as file:\n",
    "        all_book_passages = [p.strip() for p in file.read().split(\"\\n---\\n\") if p.strip()]\n",
    "    \n",
    "    with open(movie_passages_file, \"r\", encoding=\"utf-8\") as file:\n",
    "        all_movie_passages = [p.strip() for p in file.read().split(\"\\n---\\n\") if p.strip()]\n",
    "else:\n",
    "    print(\"Book or movie passages file not found. Make sure to extract passages first.\")\n",
    "    exit()\n",
    "\n",
    "# Ensure there are passages to compare\n",
    "if not all_book_passages or not all_movie_passages:\n",
    "    print(\"Error: One of the passage lists is empty. Check extracted data.\")\n",
    "    exit()\n",
    "\n",
    "# Reduce dataset size for faster processing\n",
    "book_sample = all_book_passages[:50]  # Adjust sample size if needed\n",
    "movie_sample = all_movie_passages[:50]\n",
    "\n",
    "# Load SBERT model\n",
    "sbert_model = SentenceTransformer(\"sentence-transformers/all-MiniLM-L6-v2\")\n",
    "\n",
    "# Compute SBERT embeddings\n",
    "book_embeddings = sbert_model.encode(book_sample, convert_to_numpy=True)\n",
    "movie_embeddings = sbert_model.encode(movie_sample, convert_to_numpy=True)\n",
    "\n",
    "# Compute cosine similarity with SBERT\n",
    "semantic_sim_matrix = cosine_similarity(book_embeddings, movie_embeddings)\n",
    "\n",
    "# Extract top 5 most similar matches\n",
    "flat_indices = np.argpartition(-semantic_sim_matrix.ravel(), 5)[:5]\n",
    "top_5_pairs = np.unravel_index(flat_indices, semantic_sim_matrix.shape)\n",
    "\n",
    "# Define the save path for SBERT similarity results\n",
    "sbert_results_path = os.path.join(save_dir, \"twilight_Eclipse_sbert_similarity_results.txt\")\n",
    "\n",
    "# Save top 5 most similar matches\n",
    "with open(sbert_results_path, \"w\", encoding=\"utf-8\") as output_file:\n",
    "    output_file.write(\"Top 5 Most Similar Matches (SBERT):\\n\\n\")\n",
    "    for i, j in zip(top_5_pairs[0], top_5_pairs[1]):\n",
    "        output_file.write(f\"Similarity: {semantic_sim_matrix[i, j]:.4f}\\nBook: {book_sample[i]}\\nMovie: {movie_sample[j]}\\n---\\n\")\n",
    "\n",
    "print(f\"SBERT Similarity analysis completed. Results saved to: {sbert_results_path}\")\n"
   ]
  },
  {
   "cell_type": "code",
   "execution_count": 13,
   "id": "188b55a9-0f78-4bbc-a609-f147fefc28a1",
   "metadata": {},
   "outputs": [
    {
     "data": {
      "image/png": "[encoded data removed]",
      "text/plain": [
       "<Figure size 800x500 with 1 Axes>"
      ]
     },
     "metadata": {},
     "output_type": "display_data"
    }
   ],
   "source": [
    "import matplotlib.pyplot as plt\n",
    "import numpy as np\n",
    "\n",
    "# Flatten the similarity matrix to get all similarity scores\n",
    "similarity_scores = semantic_sim_matrix.flatten()\n",
    "\n",
    "# Plot histogram\n",
    "plt.figure(figsize=(8, 5))\n",
    "plt.hist(similarity_scores, bins=20, color='skyblue', edgecolor='black')\n",
    "plt.xlabel(\"SBERT Cosine Similarity\")\n",
    "plt.ylabel(\"Frequency\")\n",
    "plt.title(\"Distribution of SBERT Similarity Scores\")\n",
    "plt.show()\n"
   ]
  },
  {
   "cell_type": "markdown",
   "id": "40bf2009-ede2-463f-9f4e-7fb6a56f2cd0",
   "metadata": {},
   "source": [
    "### Probing and Prompting Breaking Dawn Script and Book ###"
   ]
  },
  {
   "cell_type": "code",
   "execution_count": 15,
   "id": "faad4f30-81f4-454b-b4ce-2dd61bd2cc4d",
   "metadata": {},
   "outputs": [
    {
     "name": "stdout",
     "output_type": "stream",
     "text": [
      "Extracted 138 lines of dialogue mentioning Edward, Jacob, or Bella from the movie script.\n",
      "Saved to: Extracts_BreakingDawn\\twilight_BreakingDawn_script_extract.txt\n"
     ]
    }
   ],
   "source": [
    "# Define the save directory\n",
    "save_dir = \"Extracts_BreakingDawn\"\n",
    "os.makedirs(save_dir, exist_ok=True)\n",
    "\n",
    "# Load movie script file\n",
    "movie_script_file = \"Twilight_Saga_Movie/Breaking-Dawn_Script.txt\"\n",
    "\n",
    "def clean_text(text):\n",
    "    text = text.lower()\n",
    "    text = re.sub(r\"[^a-z0-9\\s']\", '', text)  # Keep apostrophes\n",
    "    text = re.sub(r'\\s+', ' ', text).strip()  # Normalize spaces\n",
    "    return text\n",
    "\n",
    "def extract_dialogue(text):\n",
    "    \"\"\"Extracts only dialogue from the script by removing character names.\"\"\"\n",
    "    dialogue = []\n",
    "    lines = text.split(\"\\n\")\n",
    "    for line in lines:\n",
    "        line = re.sub(r'^[A-Z][A-Z\\s]*\\.\\s*', '', line)  # Remove character names at the start\n",
    "        cleaned_line = clean_text(line)\n",
    "        if cleaned_line and (\"edward\" in cleaned_line or \"jacob\" in cleaned_line or \"bella\" in cleaned_line or \"wedding\" in cleaned_line):\n",
    "            dialogue.append(cleaned_line)\n",
    "    return dialogue\n",
    "\n",
    "# Check if the script file exists\n",
    "if os.path.exists(movie_script_file):\n",
    "    with open(movie_script_file, \"r\", encoding=\"utf-8\") as file:\n",
    "        movie_dialogue = extract_dialogue(file.read())  # Extract only dialogue\n",
    "else:\n",
    "    print(\"Movie script file not found. Ensure correct file path.\")\n",
    "    exit()\n",
    "\n",
    "# Define the output file path\n",
    "output_file = os.path.join(save_dir, \"twilight_BreakingDawn_script_extract.txt\")\n",
    "\n",
    "# Save extracted dialogue to a file\n",
    "with open(output_file, \"w\", encoding=\"utf-8\") as file:\n",
    "    for line in movie_dialogue:\n",
    "        file.write(line + \"\\n\")\n",
    "\n",
    "print(f\"Extracted {len(movie_dialogue)} lines of dialogue mentioning Edward, Jacob, or Bella from the movie script.\")\n",
    "print(f\"Saved to: {output_file}\")\n"
   ]
  },
  {
   "cell_type": "markdown",
   "id": "35a81678-1173-4158-84c0-11e6f55154ef",
   "metadata": {},
   "source": [
    "Exrtact the book lines of Breaking Dawn (aiming at the wedding)"
   ]
  },
  {
   "cell_type": "code",
   "execution_count": 17,
   "id": "38ab5e46-9fb5-4a7e-b9f6-86984865e73d",
   "metadata": {},
   "outputs": [
    {
     "name": "stdout",
     "output_type": "stream",
     "text": [
      "Extracted 1999 relevant passages mentioning Edward and Jacob.\n",
      "Saved to: Extracts_BreakingDawn\\twilight_BreakingDawn_book_extracts.txt\n"
     ]
    }
   ],
   "source": [
    "# Define the save directory\n",
    "save_dir = \"Extracts_BreakingDawn\"\n",
    "os.makedirs(save_dir, exist_ok=True)\n",
    "\n",
    "# Function to extract passages containing key phrases\n",
    "def extract_passages(text, keywords, window=200):\n",
    "    passages = []\n",
    "    for keyword in keywords:\n",
    "        matches = [m.start() for m in re.finditer(keyword, text, re.IGNORECASE)]\n",
    "        for match in matches:\n",
    "            start = max(0, match - window)\n",
    "            end = min(len(text), match + window)\n",
    "            passages.append(text[start:end])\n",
    "    return passages\n",
    "\n",
    "# File path for Breaking Dawn book\n",
    "book_file_path = \"Twilight_Saga/Breaking-Dawn_Book.txt\"\n",
    "\n",
    "# Define key phrases to extract passages\n",
    "key_moments = [\"Edward Cullen\", \"Edward\", \"Jacob Black\", \"Jacob\",\n",
    "               \"Edward and Jacob\", \"Bella and Edward\", \"Bella and Jacob\", \"monster\", \"vampire\", \"wedding\"]\n",
    "\n",
    "# Read the book file and extract passages\n",
    "if os.path.exists(book_file_path):\n",
    "    with open(book_file_path, \"r\", encoding=\"utf-8\") as file:\n",
    "        book_text = file.read()\n",
    "        extracted_passages = extract_passages(book_text, key_moments)\n",
    "else:\n",
    "    print(f\"Error: File {book_file_path} not found.\")\n",
    "    exit()\n",
    "\n",
    "# Define the output file path\n",
    "output_file_path = os.path.join(save_dir, \"twilight_BreakingDawn_book_extracts.txt\")\n",
    "\n",
    "# Save extracted passages to a file\n",
    "with open(output_file_path, \"w\", encoding=\"utf-8\") as output_file:\n",
    "    for passage in extracted_passages:\n",
    "        output_file.write(passage + \"\\n---\\n\")\n",
    "\n",
    "print(f\"Extracted {len(extracted_passages)} relevant passages mentioning Edward and Jacob.\")\n",
    "print(f\"Saved to: {output_file_path}\")\n"
   ]
  },
  {
   "cell_type": "markdown",
   "id": "5222d842-3b63-4b57-998d-a9e9f440010c",
   "metadata": {},
   "source": [
    "Comparing both passages using tf-idf"
   ]
  },
  {
   "cell_type": "code",
   "execution_count": 1,
   "id": "c45b2e6c-0e02-4fc0-9aa0-3e3c29bc473e",
   "metadata": {},
   "outputs": [
    {
     "name": "stdout",
     "output_type": "stream",
     "text": [
      "Similarity analysis completed using optimized TF-IDF. Results saved to: Extracts_BreakingDawn\\twilight_BreakingDawn_similarity_tf-idf-results.txt\n"
     ]
    }
   ],
   "source": [
    "import os\n",
    "from sklearn.feature_extraction.text import TfidfVectorizer\n",
    "from sklearn.pipeline import Pipeline\n",
    "from sklearn.metrics.pairwise import cosine_similarity\n",
    "import numpy as np\n",
    "\n",
    "# Define the save directory\n",
    "save_dir = \"Extracts_BreakingDawn\"\n",
    "os.makedirs(save_dir, exist_ok=True)\n",
    "\n",
    "# Define file paths correctly (without repeating \"Extracts_BreakingDawn/\")\n",
    "book_passages_file = os.path.join(save_dir, \"twilight_BreakingDawn_book_extracts.txt\")\n",
    "movie_passages_file = os.path.join(save_dir, \"twilight_BreakingDawn_script_extract.txt\")\n",
    "output_file_path = os.path.join(save_dir, \"twilight_BreakingDawn_similarity_tf-idf-results.txt\")\n",
    "\n",
    "# Initialize variables\n",
    "all_book_passages, all_movie_passages = [], []\n",
    "\n",
    "# Load book passages\n",
    "if os.path.exists(book_passages_file):\n",
    "    with open(book_passages_file, \"r\", encoding=\"utf-8\") as file:\n",
    "        all_book_passages = [p.strip() for p in file.read().split(\"\\n---\\n\") if p.strip()]\n",
    "else:\n",
    "    print(f\"Error: Book passages file '{book_passages_file}' not found.\")\n",
    "    exit()\n",
    "\n",
    "# Load movie passages\n",
    "if os.path.exists(movie_passages_file):\n",
    "    with open(movie_passages_file, \"r\", encoding=\"utf-8\") as file:\n",
    "        all_movie_passages = [p.strip() for p in file.read().split(\"\\n---\\n\") if p.strip()]\n",
    "else:\n",
    "    print(f\"Error: Movie passages file '{movie_passages_file}' not found.\")\n",
    "    exit()\n",
    "\n",
    "# Ensure there are passages to compare\n",
    "if not all_book_passages or not all_movie_passages:\n",
    "    print(\"Error: One of the passage lists is empty. Check extracted data.\")\n",
    "    exit()\n",
    "\n",
    "# Reduce dataset size for faster processing\n",
    "book_sample = all_book_passages[:50]  # Adjust sample size if needed\n",
    "movie_sample = all_movie_passages[:50]\n",
    "corpus = book_sample + movie_sample\n",
    "\n",
    "# Define a processing pipeline\n",
    "pipeline = Pipeline([\n",
    "    (\"tfidf\", TfidfVectorizer(stop_words='english', ngram_range=(1, 2)))\n",
    "])\n",
    "\n",
    "# Compute TF-IDF vectors\n",
    "X = pipeline.fit_transform(corpus)\n",
    "X_dense = X.toarray()  # Convert to dense array for faster processing\n",
    "\n",
    "# Compute cosine similarity in a vectorized manner\n",
    "cosine_sim_matrix = cosine_similarity(X_dense[:len(book_sample)], X_dense[len(book_sample):])\n",
    "\n",
    "# Extract top matches efficiently\n",
    "similarities = [(cosine_sim_matrix[i, j], book_sample[i], movie_sample[j])\n",
    "                for i in range(len(book_sample)) for j in range(len(movie_sample))]\n",
    "\n",
    "# Check if any similarities were found\n",
    "if not similarities:\n",
    "    print(\"No meaningful similarities found. Try adjusting passage extraction or vectorization settings.\")\n",
    "    exit()\n",
    "\n",
    "# Sort by similarity score\n",
    "similarities.sort(reverse=True)\n",
    "\n",
    "# Save top and bottom matches\n",
    "with open(output_file_path, \"w\", encoding=\"utf-8\") as output_file:\n",
    "    output_file.write(\"Top 5 Most Similar Matches:\\n\\n\")\n",
    "    for score, book, movie in similarities[:5]:\n",
    "        output_file.write(f\"Similarity: {score:.4f}\\nBook: {book}\\nMovie: {movie}\\n---\\n\")\n",
    "    \n",
    "    output_file.write(\"\\nBottom 5 Least Similar Matches:\\n\\n\")\n",
    "    for score, book, movie in similarities[-5:]:\n",
    "        output_file.write(f\"Similarity: {score:.4f}\\nBook: {book}\\nMovie: {movie}\\n---\\n\")\n",
    "\n",
    "print(f\"Similarity analysis completed using optimized TF-IDF. Results saved to: {output_file_path}\")\n"
   ]
  },
  {
   "cell_type": "markdown",
   "id": "f3240e41-2204-4911-9ab0-bf50272c2ae7",
   "metadata": {},
   "source": [
    "Compare using SBERT"
   ]
  },
  {
   "cell_type": "code",
   "execution_count": 2,
   "id": "b045421f-7e9f-49bf-a941-30dc9bceac56",
   "metadata": {},
   "outputs": [
    {
     "name": "stderr",
     "output_type": "stream",
     "text": [
      "C:\\Users\\Olga\\anaconda4\\envs\\AsigmentLab\\Lib\\site-packages\\tqdm\\auto.py:21: TqdmWarning: IProgress not found. Please update jupyter and ipywidgets. See https://ipywidgets.readthedocs.io/en/stable/user_install.html\n",
      "  from .autonotebook import tqdm as notebook_tqdm\n"
     ]
    },
    {
     "name": "stdout",
     "output_type": "stream",
     "text": [
      "SBERT Similarity analysis completed. Results saved to: Extracts_BreakingDawn\\twilight_BreakingDawn_sbert_similarity_results.txt\n"
     ]
    }
   ],
   "source": [
    "import os\n",
    "import numpy as np\n",
    "from sentence_transformers import SentenceTransformer\n",
    "from sklearn.metrics.pairwise import cosine_similarity\n",
    "\n",
    "# Define the save directory\n",
    "save_dir = \"Extracts_BreakingDawn\"\n",
    "os.makedirs(save_dir, exist_ok=True)\n",
    "\n",
    "# Define file paths correctly\n",
    "book_passages_file = os.path.join(save_dir, \"twilight_BreakingDawn_book_extracts.txt\")\n",
    "movie_passages_file = os.path.join(save_dir, \"twilight_BreakingDawn_script_extract.txt\")\n",
    "sbert_results_path = os.path.join(save_dir, \"twilight_BreakingDawn_sbert_similarity_results.txt\")\n",
    "\n",
    "# Load book and movie passages\n",
    "if os.path.exists(book_passages_file):\n",
    "    with open(book_passages_file, \"r\", encoding=\"utf-8\") as file:\n",
    "        all_book_passages = [p.strip() for p in file.read().split(\"\\n---\\n\") if p.strip()]\n",
    "else:\n",
    "    print(f\"Error: Book passages file '{book_passages_file}' not found.\")\n",
    "    exit()\n",
    "\n",
    "if os.path.exists(movie_passages_file):\n",
    "    with open(movie_passages_file, \"r\", encoding=\"utf-8\") as file:\n",
    "        all_movie_passages = [p.strip() for p in file.read().split(\"\\n---\\n\") if p.strip()]\n",
    "else:\n",
    "    print(f\"Error: Movie passages file '{movie_passages_file}' not found.\")\n",
    "    exit()\n",
    "\n",
    "# Ensure there are passages to compare\n",
    "if not all_book_passages or not all_movie_passages:\n",
    "    print(\"Error: One of the passage lists is empty. Check extracted data.\")\n",
    "    exit()\n",
    "\n",
    "# Reduce dataset size for faster processing\n",
    "book_sample = all_book_passages[:50]  # Adjust sample size if needed\n",
    "movie_sample = all_movie_passages[:50]\n",
    "\n",
    "# Load SBERT model\n",
    "sbert_model = SentenceTransformer(\"sentence-transformers/all-MiniLM-L6-v2\")\n",
    "\n",
    "# Compute SBERT embeddings\n",
    "book_embeddings = sbert_model.encode(book_sample, convert_to_numpy=True)\n",
    "movie_embeddings = sbert_model.encode(movie_sample, convert_to_numpy=True)\n",
    "\n",
    "# Compute cosine similarity with SBERT\n",
    "semantic_sim_matrix = cosine_similarity(book_embeddings, movie_embeddings)\n",
    "\n",
    "# Extract top 5 most similar matches\n",
    "flat_indices = np.argpartition(-semantic_sim_matrix.ravel(), 5)[:5]\n",
    "top_5_pairs = np.unravel_index(flat_indices, semantic_sim_matrix.shape)\n",
    "\n",
    "# Save top 5 most similar matches\n",
    "with open(sbert_results_path, \"w\", encoding=\"utf-8\") as output_file:\n",
    "    output_file.write(\"Top 5 Most Similar Matches (SBERT):\\n\\n\")\n",
    "    for i, j in zip(top_5_pairs[0], top_5_pairs[1]):\n",
    "        output_file.write(f\"Similarity: {semantic_sim_matrix[i, j]:.4f}\\nBook: {book_sample[i]}\\nMovie: {movie_sample[j]}\\n---\\n\")\n",
    "\n",
    "print(f\"SBERT Similarity analysis completed. Results saved to: {sbert_results_path}\")\n"
   ]
  },
  {
   "cell_type": "code",
   "execution_count": 4,
   "id": "8b7f384f-32cb-43a6-85e4-2f957538e318",
   "metadata": {},
   "outputs": [
    {
     "data": {
      "image/png": "[encoded data removed]",
      "text/plain": [
       "<Figure size 640x480 with 1 Axes>"
      ]
     },
     "metadata": {},
     "output_type": "display_data"
    }
   ],
   "source": [
    "import os\n",
    "import numpy as np\n",
    "import matplotlib.pyplot as plt\n",
    "\n",
    "# Load similarity scores\n",
    "file_path = \"Extracts_BreakingDawn/twilight_BreakingDawn_sbert_similarity_results.txt\"\n",
    "scores = []\n",
    "\n",
    "if os.path.exists(file_path):\n",
    "    with open(file_path, \"r\", encoding=\"utf-8\") as file:\n",
    "        scores = [float(line.split(\":\")[1]) for line in file if line.startswith(\"Similarity:\")]\n",
    "\n",
    "if scores:\n",
    "    plt.hist(scores, bins=20, color='skyblue', edgecolor='black')\n",
    "    plt.xlabel(\"Cosine Similarity\")\n",
    "    plt.ylabel(\"Frequency\")\n",
    "    plt.title(\"SBERT Similarity Distribution\")\n",
    "    plt.show()\n",
    "else:\n",
    "    print(\"No similarity scores found.\")\n"
   ]
  },
  {
   "cell_type": "markdown",
   "id": "aec284c8-1e56-4a69-8f2e-a61c5339f070",
   "metadata": {},
   "source": [
    "---------------------------------------------------------------------------------------------------------------------------"
   ]
  },
  {
   "cell_type": "markdown",
   "id": "99cec509-7e91-415b-910b-a6014fc24d09",
   "metadata": {},
   "source": [
    "# Does the LLM response closely aligns with the movie or with the book? ##"
   ]
  },
  {
   "cell_type": "markdown",
   "id": "9eeda498-be54-4dca-8c51-ff8a6ab222dd",
   "metadata": {},
   "source": [
    "## Question 1) *How did Edward propose to Bella?*"
   ]
  },
  {
   "cell_type": "markdown",
   "id": "246f2a26-8bb2-4a65-af7f-5e47dd38d32e",
   "metadata": {},
   "source": [
    "## Perplexity vs Book"
   ]
  },
  {
   "cell_type": "markdown",
   "id": "56939200-58cd-442c-83ce-4c92d36fe1e0",
   "metadata": {},
   "source": [
    "### TF-IDF Similarity"
   ]
  },
  {
   "cell_type": "code",
   "execution_count": 8,
   "id": "cb692160-06d0-4e7c-b249-638e9e6a0158",
   "metadata": {},
   "outputs": [
    {
     "name": "stdout",
     "output_type": "stream",
     "text": [
      "TF-IDF Cosine Similarity: 0.2789\n"
     ]
    }
   ],
   "source": [
    "import os\n",
    "from sklearn.feature_extraction.text import TfidfVectorizer\n",
    "from sklearn.metrics.pairwise import cosine_similarity\n",
    "\n",
    "file1_path = \"Comparing_LLM/Metadata/Perplexity_Edward_Proposal.txt\"\n",
    "file2_path = \"Comparing_LLM/Metadata/Eclipse_book_Edward_Proposal.txt\"\n",
    "\n",
    "if not os.path.exists(file1_path) or not os.path.exists(file2_path):\n",
    "    print(\"Error: One or both files not found.\")\n",
    "    exit()\n",
    "\n",
    "#Read files\n",
    "with open(file1_path, \"r\", encoding=\"utf-8\") as file1, open(file2_path, \"r\", encoding=\"utf-8\") as file2:\n",
    "    text1 = file1.read().strip()\n",
    "    text2 = file2.read().strip()\n",
    "\n",
    "#TF-IDF\n",
    "vectorizer = TfidfVectorizer(stop_words='english', ngram_range=(1, 2))\n",
    "tfidf_matrix = vectorizer.fit_transform([text1, text2])\n",
    "\n",
    "#Cosine similarity\n",
    "similarity_score = cosine_similarity(tfidf_matrix[0], tfidf_matrix[1])[0][0]\n",
    "\n",
    "print(f\"TF-IDF Cosine Similarity: {similarity_score:.4f}\")\n"
   ]
  },
  {
   "cell_type": "markdown",
   "id": "9df32c0b-e9a8-44a2-8e7d-11ea16814690",
   "metadata": {},
   "source": [
    "### SBERT Similarity"
   ]
  },
  {
   "cell_type": "code",
   "execution_count": 9,
   "id": "bc9a8483-8c63-4134-958f-babfb0134c1d",
   "metadata": {},
   "outputs": [
    {
     "name": "stdout",
     "output_type": "stream",
     "text": [
      "SBERT Cosine Similarity: 0.6023\n"
     ]
    }
   ],
   "source": [
    "from sentence_transformers import SentenceTransformer\n",
    "from sklearn.metrics.pairwise import cosine_similarity\n",
    "\n",
    "#Loading the SBERT model\n",
    "sbert_model = SentenceTransformer(\"sentence-transformers/all-MiniLM-L6-v2\")\n",
    "\n",
    "embeddings = sbert_model.encode([text1, text2], convert_to_numpy=True)\n",
    "\n",
    "#For the cosine similarity\n",
    "sbert_similarity = cosine_similarity([embeddings[0]], [embeddings[1]])[0][0]\n",
    "\n",
    "print(f\"SBERT Cosine Similarity: {sbert_similarity:.4f}\")\n"
   ]
  },
  {
   "cell_type": "markdown",
   "id": "88903025-c0d3-42c6-8e7b-0e3db29d4363",
   "metadata": {},
   "source": [
    "## Perplexity vs Movie "
   ]
  },
  {
   "cell_type": "markdown",
   "id": "8350881d-68a5-4727-aea7-618319d96298",
   "metadata": {},
   "source": [
    "### TF-IDF Similarity"
   ]
  },
  {
   "cell_type": "code",
   "execution_count": 10,
   "id": "b6697532-0601-4aa0-a17c-0e7802485218",
   "metadata": {},
   "outputs": [
    {
     "name": "stdout",
     "output_type": "stream",
     "text": [
      "TF-IDF Cosine Similarity: 0.0956\n"
     ]
    }
   ],
   "source": [
    "import os\n",
    "from sklearn.feature_extraction.text import TfidfVectorizer\n",
    "from sklearn.metrics.pairwise import cosine_similarity\n",
    "\n",
    "file1_path = \"Comparing_LLM/Metadata/Perplexity_Edward_Proposal.txt\"\n",
    "file2_path = \"Comparing_LLM/Metadata/Eclipse_movie_Edward_Proposal.txt\"\n",
    "\n",
    "if not os.path.exists(file1_path) or not os.path.exists(file2_path):\n",
    "    print(\"Error: One or both files not found.\")\n",
    "    exit()\n",
    "\n",
    "with open(file1_path, \"r\", encoding=\"utf-8\") as file1, open(file2_path, \"r\", encoding=\"utf-8\") as file2:\n",
    "    text1 = file1.read().strip()\n",
    "    text2 = file2.read().strip()\n",
    "\n",
    "#TF-IDF\n",
    "vectorizer = TfidfVectorizer(stop_words='english', ngram_range=(1, 2))\n",
    "tfidf_matrix = vectorizer.fit_transform([text1, text2])\n",
    "\n",
    "#cosine similarity\n",
    "similarity_score = cosine_similarity(tfidf_matrix[0], tfidf_matrix[1])[0][0]\n",
    "\n",
    "print(f\"TF-IDF Cosine Similarity: {similarity_score:.4f}\")\n"
   ]
  },
  {
   "cell_type": "markdown",
   "id": "db08f805-4570-460a-895f-03a43a3e30d1",
   "metadata": {},
   "source": [
    "### SBERT SIMILARITY ###"
   ]
  },
  {
   "cell_type": "code",
   "execution_count": 11,
   "id": "a517b7ce-84df-468f-8c86-7405a4e2f119",
   "metadata": {},
   "outputs": [
    {
     "name": "stdout",
     "output_type": "stream",
     "text": [
      "SBERT Cosine Similarity: 0.4892\n"
     ]
    }
   ],
   "source": [
    "from sentence_transformers import SentenceTransformer\n",
    "from sklearn.metrics.pairwise import cosine_similarity\n",
    "\n",
    "\n",
    "sbert_model = SentenceTransformer(\"sentence-transformers/all-MiniLM-L6-v2\")\n",
    "\n",
    "\n",
    "embeddings = sbert_model.encode([text1, text2], convert_to_numpy=True)\n",
    "\n",
    "#cosine similarity\n",
    "sbert_similarity = cosine_similarity([embeddings[0]], [embeddings[1]])[0][0]\n",
    "\n",
    "print(f\"SBERT Cosine Similarity: {sbert_similarity:.4f}\")\n"
   ]
  },
  {
   "cell_type": "markdown",
   "id": "d0163630-2e0b-46fd-abb8-bb308ccf78b5",
   "metadata": {},
   "source": [
    "## ChatGPT vs Book"
   ]
  },
  {
   "cell_type": "markdown",
   "id": "82c0396f-7c83-4cbd-b312-793c8c5d0d2b",
   "metadata": {},
   "source": [
    "### TF-IDF Similarity"
   ]
  },
  {
   "cell_type": "code",
   "execution_count": 12,
   "id": "06e29fa2-1d2f-40a5-b7bf-58c255694e4e",
   "metadata": {},
   "outputs": [
    {
     "name": "stdout",
     "output_type": "stream",
     "text": [
      "TF-IDF Cosine Similarity: 0.2923\n"
     ]
    }
   ],
   "source": [
    "import os\n",
    "from sklearn.feature_extraction.text import TfidfVectorizer\n",
    "from sklearn.metrics.pairwise import cosine_similarity\n",
    "\n",
    "file1_path = \"Comparing_LLM/Metadata/Chatgpt_Edward_Proposal.txt\"\n",
    "file2_path = \"Comparing_LLM/Metadata/Eclipse_book_Edward_Proposal.txt\"\n",
    "\n",
    "if not os.path.exists(file1_path) or not os.path.exists(file2_path):\n",
    "    print(\"Error: One or both files not found.\")\n",
    "    exit()\n",
    "\n",
    "with open(file1_path, \"r\", encoding=\"utf-8\") as file1, open(file2_path, \"r\", encoding=\"utf-8\") as file2:\n",
    "    text1 = file1.read().strip()\n",
    "    text2 = file2.read().strip()\n",
    "\n",
    "#TF-IDF \n",
    "vectorizer = TfidfVectorizer(stop_words='english', ngram_range=(1, 2))\n",
    "tfidf_matrix = vectorizer.fit_transform([text1, text2])\n",
    "\n",
    "#Cosine similarity\n",
    "similarity_score = cosine_similarity(tfidf_matrix[0], tfidf_matrix[1])[0][0]\n",
    "\n",
    "print(f\"TF-IDF Cosine Similarity: {similarity_score:.4f}\")\n"
   ]
  },
  {
   "cell_type": "markdown",
   "id": "903e0902-e2ca-409e-a5d6-bdbe06812a38",
   "metadata": {},
   "source": [
    "### SBERT Similarity"
   ]
  },
  {
   "cell_type": "code",
   "execution_count": 13,
   "id": "5def590f-4d1e-437f-812c-a59c9a1b0c08",
   "metadata": {},
   "outputs": [
    {
     "name": "stdout",
     "output_type": "stream",
     "text": [
      "SBERT Cosine Similarity: 0.7532\n"
     ]
    }
   ],
   "source": [
    "from sentence_transformers import SentenceTransformer\n",
    "from sklearn.metrics.pairwise import cosine_similarity\n",
    "\n",
    "sbert_model = SentenceTransformer(\"sentence-transformers/all-MiniLM-L6-v2\")\n",
    "\n",
    "embeddings = sbert_model.encode([text1, text2], convert_to_numpy=True)\n",
    "\n",
    "sbert_similarity = cosine_similarity([embeddings[0]], [embeddings[1]])[0][0]\n",
    "\n",
    "print(f\"SBERT Cosine Similarity: {sbert_similarity:.4f}\")\n"
   ]
  },
  {
   "cell_type": "markdown",
   "id": "102deb01-8414-4bc2-827f-a474d0e38302",
   "metadata": {},
   "source": [
    "## ChatGPT vs Movie"
   ]
  },
  {
   "cell_type": "markdown",
   "id": "bc003fa6-467f-4492-9eb3-bb2384a8554b",
   "metadata": {},
   "source": [
    "### TF-IDF Similarity"
   ]
  },
  {
   "cell_type": "code",
   "execution_count": 14,
   "id": "8269421c-f542-4d3d-9c32-40d7259de151",
   "metadata": {},
   "outputs": [
    {
     "name": "stdout",
     "output_type": "stream",
     "text": [
      "TF-IDF Cosine Similarity: 0.1397\n"
     ]
    }
   ],
   "source": [
    "import os\n",
    "from sklearn.feature_extraction.text import TfidfVectorizer\n",
    "from sklearn.metrics.pairwise import cosine_similarity\n",
    "\n",
    "file1_path = \"Comparing_LLM/Metadata/Chatgpt_Edward_Proposal.txt\"\n",
    "file2_path = \"Comparing_LLM/Metadata/Eclipse_movie_Edward_Proposal.txt\"\n",
    "\n",
    "if not os.path.exists(file1_path) or not os.path.exists(file2_path):\n",
    "    print(\"Error: One or both files not found.\")\n",
    "    exit()\n",
    "\n",
    "with open(file1_path, \"r\", encoding=\"utf-8\") as file1, open(file2_path, \"r\", encoding=\"utf-8\") as file2:\n",
    "    text1 = file1.read().strip()\n",
    "    text2 = file2.read().strip()\n",
    "\n",
    "#TF-IDF \n",
    "vectorizer = TfidfVectorizer(stop_words='english', ngram_range=(1, 2))\n",
    "tfidf_matrix = vectorizer.fit_transform([text1, text2])\n",
    "\n",
    "#Cosine similarity\n",
    "similarity_score = cosine_similarity(tfidf_matrix[0], tfidf_matrix[1])[0][0]\n",
    "\n",
    "print(f\"TF-IDF Cosine Similarity: {similarity_score:.4f}\")\n"
   ]
  },
  {
   "cell_type": "markdown",
   "id": "690597e2-0158-465b-81da-59cd68810860",
   "metadata": {},
   "source": [
    "### SBERT Similarity"
   ]
  },
  {
   "cell_type": "code",
   "execution_count": 15,
   "id": "7df3f3aa-21d0-430e-9524-baa076ddfaad",
   "metadata": {},
   "outputs": [
    {
     "name": "stdout",
     "output_type": "stream",
     "text": [
      "SBERT Cosine Similarity: 0.6353\n"
     ]
    }
   ],
   "source": [
    "from sentence_transformers import SentenceTransformer\n",
    "from sklearn.metrics.pairwise import cosine_similarity\n",
    "\n",
    "sbert_model = SentenceTransformer(\"sentence-transformers/all-MiniLM-L6-v2\")\n",
    "\n",
    "embeddings = sbert_model.encode([text1, text2], convert_to_numpy=True)\n",
    "\n",
    "sbert_similarity = cosine_similarity([embeddings[0]], [embeddings[1]])[0][0]\n",
    "\n",
    "print(f\"SBERT Cosine Similarity: {sbert_similarity:.4f}\")\n"
   ]
  },
  {
   "cell_type": "markdown",
   "id": "8012e920-fbdb-4ec5-a1df-a38600b46650",
   "metadata": {},
   "source": [
    "### Question 2) *Prompt a quote from Bella’s wedding*"
   ]
  },
  {
   "cell_type": "markdown",
   "id": "dfb75aca-ecf2-469d-9ea4-29f1668c5e1a",
   "metadata": {},
   "source": [
    "## Perplexity vs Book"
   ]
  },
  {
   "cell_type": "markdown",
   "id": "2bd4d57b-7a25-4240-b343-f341443c71c2",
   "metadata": {},
   "source": [
    "### TF-IDF Similarity"
   ]
  },
  {
   "cell_type": "code",
   "execution_count": 16,
   "id": "f7565ee9-16b7-4d69-b14f-71e884fe0585",
   "metadata": {},
   "outputs": [
    {
     "name": "stdout",
     "output_type": "stream",
     "text": [
      "TF-IDF Cosine Similarity: 0.9099\n"
     ]
    }
   ],
   "source": [
    "import os\n",
    "from sklearn.feature_extraction.text import TfidfVectorizer\n",
    "from sklearn.metrics.pairwise import cosine_similarity\n",
    "\n",
    "file1_path = \"Comparing_LLM/Metadata/Perplexity_BellaWedding.txt\"\n",
    "file2_path = \"Comparing_LLM/Metadata/Book_WeddingBella.txt\"\n",
    "\n",
    "if not os.path.exists(file1_path) or not os.path.exists(file2_path):\n",
    "    print(\"Error: One or both files not found.\")\n",
    "    exit()\n",
    "\n",
    "with open(file1_path, \"r\", encoding=\"utf-8\") as file1, open(file2_path, \"r\", encoding=\"utf-8\") as file2:\n",
    "    text1 = file1.read().strip()\n",
    "    text2 = file2.read().strip()\n",
    "\n",
    "#TF-IDF \n",
    "vectorizer = TfidfVectorizer(stop_words='english', ngram_range=(1, 2))\n",
    "tfidf_matrix = vectorizer.fit_transform([text1, text2])\n",
    "\n",
    "#cosine similarity\n",
    "similarity_score = cosine_similarity(tfidf_matrix[0], tfidf_matrix[1])[0][0]\n",
    "\n",
    "print(f\"TF-IDF Cosine Similarity: {similarity_score:.4f}\")\n"
   ]
  },
  {
   "cell_type": "markdown",
   "id": "86d33491-774f-4c21-a303-0fb569fbf2da",
   "metadata": {},
   "source": [
    "### SBERT Similarity"
   ]
  },
  {
   "cell_type": "code",
   "execution_count": 17,
   "id": "3a148549-513b-48a6-b6f9-b0d17d186c4b",
   "metadata": {},
   "outputs": [
    {
     "name": "stdout",
     "output_type": "stream",
     "text": [
      "SBERT Cosine Similarity: 0.8796\n"
     ]
    }
   ],
   "source": [
    "from sentence_transformers import SentenceTransformer\n",
    "from sklearn.metrics.pairwise import cosine_similarity\n",
    "\n",
    "sbert_model = SentenceTransformer(\"sentence-transformers/all-MiniLM-L6-v2\")\n",
    "\n",
    "embeddings = sbert_model.encode([text1, text2], convert_to_numpy=True)\n",
    "\n",
    "sbert_similarity = cosine_similarity([embeddings[0]], [embeddings[1]])[0][0]\n",
    "\n",
    "print(f\"SBERT Cosine Similarity: {sbert_similarity:.4f}\")\n"
   ]
  },
  {
   "cell_type": "markdown",
   "id": "b84da049-640d-4198-95ce-9a34a6cc81ef",
   "metadata": {},
   "source": [
    "## Perplexity vs Movie"
   ]
  },
  {
   "cell_type": "markdown",
   "id": "4cb42ced-b1be-4651-a1eb-858ec5988a83",
   "metadata": {},
   "source": [
    "### TF-IDF Similarity"
   ]
  },
  {
   "cell_type": "code",
   "execution_count": 18,
   "id": "8ff10cad-27f2-4e51-9c0c-fc0622d1ea72",
   "metadata": {},
   "outputs": [
    {
     "name": "stdout",
     "output_type": "stream",
     "text": [
      "TF-IDF Cosine Similarity: 0.0815\n"
     ]
    }
   ],
   "source": [
    "import os\n",
    "from sklearn.feature_extraction.text import TfidfVectorizer\n",
    "from sklearn.metrics.pairwise import cosine_similarity\n",
    "\n",
    "file1_path = \"Comparing_LLM/Metadata/Perplexity_BellaWedding.txt\"\n",
    "file2_path = \"Comparing_LLM/Metadata/Movie_BellaWedding.txt\"\n",
    "\n",
    "if not os.path.exists(file1_path) or not os.path.exists(file2_path):\n",
    "    print(\"Error: One or both files not found.\")\n",
    "    exit()\n",
    "\n",
    "with open(file1_path, \"r\", encoding=\"utf-8\") as file1, open(file2_path, \"r\", encoding=\"utf-8\") as file2:\n",
    "    text1 = file1.read().strip()\n",
    "    text2 = file2.read().strip()\n",
    "\n",
    "vectorizer = TfidfVectorizer(stop_words='english', ngram_range=(1, 2))\n",
    "tfidf_matrix = vectorizer.fit_transform([text1, text2])\n",
    "\n",
    "similarity_score = cosine_similarity(tfidf_matrix[0], tfidf_matrix[1])[0][0]\n",
    "\n",
    "print(f\"TF-IDF Cosine Similarity: {similarity_score:.4f}\")\n"
   ]
  },
  {
   "cell_type": "markdown",
   "id": "e8fbf43e-d2e8-4e8f-8271-9e311f3b3221",
   "metadata": {},
   "source": [
    "### SBERT Similarity"
   ]
  },
  {
   "cell_type": "code",
   "execution_count": 19,
   "id": "bdc2352f-560c-452e-86ed-52e22f9674fc",
   "metadata": {},
   "outputs": [
    {
     "name": "stdout",
     "output_type": "stream",
     "text": [
      "SBERT Cosine Similarity: 0.5912\n"
     ]
    }
   ],
   "source": [
    "from sentence_transformers import SentenceTransformer\n",
    "from sklearn.metrics.pairwise import cosine_similarity\n",
    "\n",
    "sbert_model = SentenceTransformer(\"sentence-transformers/all-MiniLM-L6-v2\")\n",
    "\n",
    "embeddings = sbert_model.encode([text1, text2], convert_to_numpy=True)\n",
    "\n",
    "sbert_similarity = cosine_similarity([embeddings[0]], [embeddings[1]])[0][0]\n",
    "\n",
    "print(f\"SBERT Cosine Similarity: {sbert_similarity:.4f}\")\n"
   ]
  },
  {
   "cell_type": "markdown",
   "id": "33c09136-455f-4cd5-b5e7-0ce4943dcb07",
   "metadata": {},
   "source": [
    "### Question 3) *Prompt a quote from when Bella transforms into a vampire*"
   ]
  },
  {
   "cell_type": "markdown",
   "id": "274b7986-7432-42ec-95a7-29db2c5d0de4",
   "metadata": {},
   "source": [
    "## ChatGPT vs Book"
   ]
  },
  {
   "cell_type": "markdown",
   "id": "b12ba928-44ca-4239-afdd-a8508449e995",
   "metadata": {},
   "source": [
    "### TF-IDF Similarity"
   ]
  },
  {
   "cell_type": "code",
   "execution_count": 20,
   "id": "90a035c0-4f23-40e5-a891-189de5f4473f",
   "metadata": {},
   "outputs": [
    {
     "name": "stdout",
     "output_type": "stream",
     "text": [
      "TF-IDF Cosine Similarity: 0.0535\n"
     ]
    }
   ],
   "source": [
    "import os\n",
    "from sklearn.feature_extraction.text import TfidfVectorizer\n",
    "from sklearn.metrics.pairwise import cosine_similarity\n",
    "\n",
    "file1_path = \"Comparing_LLM/Metadata/ChatGPT_Bella_Vampire.txt\"\n",
    "file2_path = \"Comparing_LLM/Metadata/Book_Bella_Vampire.txt\"\n",
    "\n",
    "if not os.path.exists(file1_path) or not os.path.exists(file2_path):\n",
    "    print(\"Error: One or both files not found.\")\n",
    "    exit()\n",
    "\n",
    "with open(file1_path, \"r\", encoding=\"utf-8\") as file1, open(file2_path, \"r\", encoding=\"utf-8\") as file2:\n",
    "    text1 = file1.read().strip()\n",
    "    text2 = file2.read().strip()\n",
    "\n",
    "vectorizer = TfidfVectorizer(stop_words='english', ngram_range=(1, 2))\n",
    "tfidf_matrix = vectorizer.fit_transform([text1, text2])\n",
    "\n",
    "similarity_score = cosine_similarity(tfidf_matrix[0], tfidf_matrix[1])[0][0]\n",
    "\n",
    "print(f\"TF-IDF Cosine Similarity: {similarity_score:.4f}\")\n"
   ]
  },
  {
   "cell_type": "markdown",
   "id": "c77ce546-2ab4-4740-be9d-2738a7e6f75f",
   "metadata": {},
   "source": [
    "### SBERT Similarity"
   ]
  },
  {
   "cell_type": "code",
   "execution_count": 6,
   "id": "a377a847-be23-4133-9c2f-3c7fd5f62d08",
   "metadata": {},
   "outputs": [
    {
     "name": "stdout",
     "output_type": "stream",
     "text": [
      "SBERT Cosine Similarity: 0.5162\n"
     ]
    }
   ],
   "source": [
    "from sentence_transformers import SentenceTransformer\n",
    "from sklearn.metrics.pairwise import cosine_similarity\n",
    "\n",
    "sbert_model = SentenceTransformer(\"sentence-transformers/all-MiniLM-L6-v2\")\n",
    "\n",
    "embeddings = sbert_model.encode([text1, text2], convert_to_numpy=True)\n",
    "\n",
    "sbert_similarity = cosine_similarity([embeddings[0]], [embeddings[1]])[0][0]\n",
    "\n",
    "print(f\"SBERT Cosine Similarity: {sbert_similarity:.4f}\")\n"
   ]
  },
  {
   "cell_type": "markdown",
   "id": "550ce551-0c68-484e-926f-a77d1fcc5737",
   "metadata": {},
   "source": [
    "## ChatGPT vs Movie"
   ]
  },
  {
   "cell_type": "markdown",
   "id": "e50c056e-09a9-4ffd-a685-8c18a524b2a1",
   "metadata": {},
   "source": [
    "### TF-IDF Similarity"
   ]
  },
  {
   "cell_type": "code",
   "execution_count": 7,
   "id": "60fe7250-5a16-481d-9e02-8a3e2123d0e2",
   "metadata": {},
   "outputs": [
    {
     "name": "stdout",
     "output_type": "stream",
     "text": [
      "TF-IDF Cosine Similarity: 0.0288\n"
     ]
    }
   ],
   "source": [
    "import os\n",
    "from sklearn.feature_extraction.text import TfidfVectorizer\n",
    "from sklearn.metrics.pairwise import cosine_similarity\n",
    "\n",
    "file1_path = \"Comparing_LLM/Metadata/ChatGPT_Bella_Vampire.txt\"\n",
    "file2_path = \"Comparing_LLM/Metadata/Movie_Bella_Vampire.txt\"\n",
    "\n",
    "if not os.path.exists(file1_path) or not os.path.exists(file2_path):\n",
    "    print(\"Error: One or both files not found.\")\n",
    "    exit()\n",
    "\n",
    "with open(file1_path, \"r\", encoding=\"utf-8\") as file1, open(file2_path, \"r\", encoding=\"utf-8\") as file2:\n",
    "    text1 = file1.read().strip()\n",
    "    text2 = file2.read().strip()\n",
    "\n",
    "#For TF-IDF \n",
    "vectorizer = TfidfVectorizer(stop_words='english', ngram_range=(1, 2))\n",
    "tfidf_matrix = vectorizer.fit_transform([text1, text2])\n",
    "\n",
    "#Cosine similarity\n",
    "similarity_score = cosine_similarity(tfidf_matrix[0], tfidf_matrix[1])[0][0]\n",
    "\n",
    "print(f\"TF-IDF Cosine Similarity: {similarity_score:.4f}\")\n"
   ]
  },
  {
   "cell_type": "markdown",
   "id": "6e635f7c-8d7f-4c02-b282-0d9d405f9aca",
   "metadata": {},
   "source": [
    "### SBERT Similarity"
   ]
  },
  {
   "cell_type": "code",
   "execution_count": 6,
   "id": "137cccf8-f5de-438f-9692-137c42d4477a",
   "metadata": {},
   "outputs": [
    {
     "name": "stdout",
     "output_type": "stream",
     "text": [
      "SBERT Cosine Similarity: 0.5431\n"
     ]
    }
   ],
   "source": [
    "from sentence_transformers import SentenceTransformer\n",
    "from sklearn.metrics.pairwise import cosine_similarity\n",
    "\n",
    "sbert_model = SentenceTransformer(\"sentence-transformers/all-MiniLM-L6-v2\")\n",
    "\n",
    "embeddings = sbert_model.encode([text1, text2], convert_to_numpy=True)\n",
    "\n",
    "sbert_similarity = cosine_similarity([embeddings[0]], [embeddings[1]])[0][0]\n",
    "\n",
    "print(f\"SBERT Cosine Similarity: {sbert_similarity:.4f}\")\n"
   ]
  },
  {
   "cell_type": "markdown",
   "id": "4c80ef4e-cd64-4d55-bf84-19a3384b0208",
   "metadata": {},
   "source": [
    "----------------------------------------------------------------------------------------------------------------------"
   ]
  }
 ],
 "metadata": {
  "kernelspec": {
   "display_name": "Python 3 (ipykernel)",
   "language": "python",
   "name": "python3"
  },
  "language_info": {
   "codemirror_mode": {
    "name": "ipython",
    "version": 3
   },
   "file_extension": ".py",
   "mimetype": "text/x-python",
   "name": "python",
   "nbconvert_exporter": "python",
   "pygments_lexer": "ipython3",
   "version": "3.12.7"
  }
 },
 "nbformat": 4,
 "nbformat_minor": 5
}
